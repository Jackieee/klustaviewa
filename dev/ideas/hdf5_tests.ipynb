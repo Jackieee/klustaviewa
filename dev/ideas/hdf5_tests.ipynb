{
 "metadata": {
  "name": ""
 },
 "nbformat": 3,
 "nbformat_minor": 0,
 "worksheets": [
  {
   "cells": [
    {
     "cell_type": "code",
     "collapsed": false,
     "input": [
      "import os\n",
      "import tables"
     ],
     "language": "python",
     "metadata": {},
     "outputs": [],
     "prompt_number": 1
    },
    {
     "cell_type": "code",
     "collapsed": false,
     "input": [
      "folder = r\"D:\\Spike sorting\\137_34_shankA_29cat_shabnam\"\n",
      "basename = \"137_34_shankA_29cat_shabnam\""
     ],
     "language": "python",
     "metadata": {},
     "outputs": [],
     "prompt_number": 2
    },
    {
     "cell_type": "code",
     "collapsed": false,
     "input": [
      "main_filename = os.path.join(folder, basename + '.main.h5')\n",
      "raw_filename = os.path.join(folder, basename + '.raw.h5')\n",
      "low_filename = os.path.join(folder, basename + '.low.h5')\n",
      "high_filename = os.path.join(folder, basename + '.high.h5')\n",
      "wave_filename = os.path.join(folder, basename + '.waves.h5')"
     ],
     "language": "python",
     "metadata": {},
     "outputs": [],
     "prompt_number": 7
    },
    {
     "cell_type": "code",
     "collapsed": false,
     "input": [
      "tables.__version__"
     ],
     "language": "python",
     "metadata": {},
     "outputs": [
      {
       "metadata": {},
       "output_type": "pyout",
       "prompt_number": 4,
       "text": [
        "'2.4.0'"
       ]
      }
     ],
     "prompt_number": 4
    },
    {
     "cell_type": "code",
     "collapsed": false,
     "input": [
      "main_file = tables.openFile(main_filename)\n",
      "raw_file = tables.openFile(raw_filename)\n",
      "low_file = tables.openFile(low_filename)\n",
      "high_file = tables.openFile(high_filename)\n",
      "wave_file = tables.openFile(wave_filename)"
     ],
     "language": "python",
     "metadata": {},
     "outputs": [],
     "prompt_number": 8
    },
    {
     "cell_type": "code",
     "collapsed": false,
     "input": [
      "main_file.root.shanks.shank_1.spikedetekt.cols"
     ],
     "language": "python",
     "metadata": {},
     "outputs": [
      {
       "metadata": {},
       "output_type": "pyout",
       "prompt_number": 70,
       "text": [
        "/shanks/shank_1/spikedetekt.cols (Cols), 4 columns\n",
        "  features (Column(405318, 31), ('<f4', (31,)))\n",
        "  mask_binary (Column(405318, 10), ('i1', (10,)))\n",
        "  mask_float (Column(405318, 10), ('<f4', (10,)))\n",
        "  time (Column(405318,), int32)\n"
       ]
      }
     ],
     "prompt_number": 70
    }
   ],
   "metadata": {}
  }
 ]
}