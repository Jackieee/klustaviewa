{
 "metadata": {
  "name": ""
 },
 "nbformat": 3,
 "nbformat_minor": 0,
 "worksheets": [
  {
   "cells": [
    {
     "cell_type": "code",
     "collapsed": false,
     "input": [
      "import os\n",
      "import tables\n",
      "import klustaviewa.dataio as kvio"
     ],
     "language": "python",
     "metadata": {},
     "outputs": [],
     "prompt_number": 1
    },
    {
     "cell_type": "code",
     "collapsed": false,
     "input": [
      "folder = r\"D:\\Spike sorting\\sirota\"\n",
      "basename = \"ec016.694_711\""
     ],
     "language": "python",
     "metadata": {},
     "outputs": [],
     "prompt_number": 2
    },
    {
     "cell_type": "code",
     "collapsed": false,
     "input": [
      "filenames = kvio.find_filenames(os.path.join(folder, basename))\n",
      "fileindex = kvio.find_index(os.path.join(folder, basename))"
     ],
     "language": "python",
     "metadata": {},
     "outputs": [],
     "prompt_number": 3
    },
    {
     "cell_type": "code",
     "collapsed": false,
     "input": [
      "filenames"
     ],
     "language": "python",
     "metadata": {},
     "outputs": [
      {
       "metadata": {},
       "output_type": "pyout",
       "prompt_number": 5,
       "text": [
        "{'aclu': 'D:\\\\Spike sorting\\\\sirota\\\\ec016.694_711.aclu.7',\n",
        " 'acluinfo': 'D:\\\\Spike sorting\\\\sirota\\\\ec016.694_711.acluinfo.7',\n",
        " 'clu': 'D:\\\\Spike sorting\\\\sirota\\\\ec016.694_711.clu.7',\n",
        " 'dat': 'D:\\\\Spike sorting\\\\sirota\\\\ec016.694_711.dat.7',\n",
        " 'fet': 'D:\\\\Spike sorting\\\\sirota\\\\ec016.694_711.fet.7',\n",
        " 'groupinfo': 'D:\\\\Spike sorting\\\\sirota\\\\ec016.694_711.groupinfo.7',\n",
        " 'mask': 'D:\\\\Spike sorting\\\\sirota\\\\ec016.694_711.fmask.7',\n",
        " 'probe': None,\n",
        " 'res': 'D:\\\\Spike sorting\\\\sirota\\\\ec016.694_711.res.7',\n",
        " 'spk': 'D:\\\\Spike sorting\\\\sirota\\\\ec016.694_711.spk.7',\n",
        " 'xml': 'D:\\\\Spike sorting\\\\sirota\\\\ec016.694_711.xml'}"
       ]
      }
     ],
     "prompt_number": 5
    },
    {
     "cell_type": "code",
     "collapsed": false,
     "input": [
      "clusters = kvio.read_clusters(filenames['clu'])\n",
      "#aclusters = kvio.read_clusters(filenames['aclu'])\n",
      "#acluinfo = kvio.read_cluster_info(filenames['acluinfo'])\n",
      "#groupinfo = kvio.read_group_info(filenames['groupinfo'])\n",
      "metadata = kvio.read_xml(filenames['xml'], fileindex)\n",
      "#probe = kvio.read_probe(filenames['probe'])"
     ],
     "language": "python",
     "metadata": {},
     "outputs": [],
     "prompt_number": 7
    },
    {
     "cell_type": "code",
     "collapsed": false,
     "input": [
      "metadata"
     ],
     "language": "python",
     "metadata": {},
     "outputs": [
      {
       "metadata": {},
       "output_type": "pyout",
       "prompt_number": 8,
       "text": [
        "{'fetdim': 3, 'freq': 20000.0, 'nchannels': 8, 'nsamples': 32}"
       ]
      }
     ],
     "prompt_number": 8
    },
    {
     "cell_type": "code",
     "collapsed": false,
     "input": [
      "hdf_main = tables.openFile('basename' + '.h5', mode='w')"
     ],
     "language": "python",
     "metadata": {},
     "outputs": [],
     "prompt_number": 6
    },
    {
     "cell_type": "code",
     "collapsed": false,
     "input": [
      "shanks = hdf_main.createGroup('/', 'shanks')\n",
      "shank0 = hdf_main.createGroup('/shanks', 'shank0')"
     ],
     "language": "python",
     "metadata": {},
     "outputs": [],
     "prompt_number": 7
    },
    {
     "cell_type": "code",
     "collapsed": false,
     "input": [
      "spikes_description = dict(time=tables.Int64Col(),\n",
      "                          mask_binary=tables.BoolCol(shape=(metadata['nchannels'],)),\n",
      "                          mask_float=tables.Float32Col(shape=(metadata['nchannels'],)),\n",
      "                          features=tables.Float32Col(shape=(metadata['fetdim'], metadata['nchannels'],)),\n",
      "                          cluster=tables.Int32Col(),)"
     ],
     "language": "python",
     "metadata": {},
     "outputs": [],
     "prompt_number": 8
    },
    {
     "cell_type": "code",
     "collapsed": false,
     "input": [
      "spikes_table = hdf_main.createTable('/shanks/shank0', 'spikes', spikes_description)"
     ],
     "language": "python",
     "metadata": {},
     "outputs": [],
     "prompt_number": 9
    },
    {
     "cell_type": "code",
     "collapsed": false,
     "input": [],
     "language": "python",
     "metadata": {},
     "outputs": [
      {
       "metadata": {},
       "output_type": "pyout",
       "prompt_number": 11,
       "text": [
        "/shanks/shank0/spikes.row (Row), pointing to row #0"
       ]
      }
     ],
     "prompt_number": 11
    },
    {
     "cell_type": "code",
     "collapsed": false,
     "input": [
      "spike = 0\n",
      "spikes_table.row['time']"
     ],
     "language": "python",
     "metadata": {},
     "outputs": [
      {
       "metadata": {},
       "output_type": "pyout",
       "prompt_number": 19,
       "text": [
        "{'fetdim': 3, 'freq': 30000.0, 'nchannels': 10, 'nsamples': 30}"
       ]
      }
     ],
     "prompt_number": 19
    }
   ],
   "metadata": {}
  }
 ]
}