{
 "metadata": {
  "name": ""
 },
 "nbformat": 3,
 "nbformat_minor": 0,
 "worksheets": [
  {
   "cells": [
    {
     "cell_type": "markdown",
     "metadata": {},
     "source": [
      "# Loading HDF5 files"
     ]
    },
    {
     "cell_type": "code",
     "collapsed": false,
     "input": [
      "import pandas as pd\n",
      "import tables as tb"
     ],
     "language": "python",
     "metadata": {},
     "outputs": [],
     "prompt_number": 1
    },
    {
     "cell_type": "code",
     "collapsed": false,
     "input": [
      "folder = r\"D:\\Spike sorting\\sirota\"\n",
      "basename = \"ec016.694_711\""
     ],
     "language": "python",
     "metadata": {},
     "outputs": [],
     "prompt_number": 2
    },
    {
     "cell_type": "code",
     "collapsed": false,
     "input": [
      "main_filename = os.path.join(folder, basename + '.main.h5')\n",
      "wave_filename = os.path.join(folder, basename + '.wave.h5')"
     ],
     "language": "python",
     "metadata": {},
     "outputs": [],
     "prompt_number": 3
    },
    {
     "cell_type": "code",
     "collapsed": false,
     "input": [
      "main_file = tb.openFile(main_filename)\n",
      "wave_file = tb.openFile(wave_filename)"
     ],
     "language": "python",
     "metadata": {},
     "outputs": [],
     "prompt_number": 4
    },
    {
     "cell_type": "code",
     "collapsed": false,
     "input": [
      "spikes = main_file.root.shanks.shank0.spikes\n",
      "spikes"
     ],
     "language": "python",
     "metadata": {},
     "outputs": [
      {
       "metadata": {},
       "output_type": "pyout",
       "prompt_number": 5,
       "text": [
        "/shanks/shank0/spikes (Table(1465381,)) ''\n",
        "  description := {\n",
        "  \"cluster\": Int32Col(shape=(), dflt=0, pos=0),\n",
        "  \"features\": Int16Col(shape=(29,), dflt=0, pos=1),\n",
        "  \"time\": Int64Col(shape=(), dflt=0, pos=2)}\n",
        "  byteorder := 'little'\n",
        "  chunkshape := (936,)"
       ]
      }
     ],
     "prompt_number": 5
    },
    {
     "cell_type": "code",
     "collapsed": false,
     "input": [
      "waves = wave_file.root.shanks.shank0.waves\n",
      "waves"
     ],
     "language": "python",
     "metadata": {},
     "outputs": [
      {
       "metadata": {},
       "output_type": "pyout",
       "prompt_number": 6,
       "text": [
        "/shanks/shank0/waves (Table(1465381,)) ''\n",
        "  description := {\n",
        "  \"wave\": Int16Col(shape=(256,), dflt=0, pos=0)}\n",
        "  byteorder := 'little'\n",
        "  chunkshape := (128,)"
       ]
      }
     ],
     "prompt_number": 6
    },
    {
     "cell_type": "markdown",
     "metadata": {},
     "source": [
      "## Benchmarks: columns"
     ]
    },
    {
     "cell_type": "code",
     "collapsed": false,
     "input": [
      "%timeit -n 10 -r 2 main_file.root.shanks.shank0.spikes.col('cluster')"
     ],
     "language": "python",
     "metadata": {},
     "outputs": [
      {
       "output_type": "stream",
       "stream": "stdout",
       "text": [
        "10 loops, best of 2: 42 ms per loop\n"
       ]
      }
     ],
     "prompt_number": 7
    },
    {
     "cell_type": "code",
     "collapsed": false,
     "input": [
      "%timeit -n 10 -r 2 main_file.root.shanks.shank0.spikes.col('features')"
     ],
     "language": "python",
     "metadata": {},
     "outputs": [
      {
       "output_type": "stream",
       "stream": "stdout",
       "text": [
        "10 loops, best of 2: 69 ms per loop\n"
       ]
      }
     ],
     "prompt_number": 8
    },
    {
     "cell_type": "code",
     "collapsed": false,
     "input": [
      "%timeit -n 10 -r 2 main_file.root.shanks.shank0.spikes.col('time')"
     ],
     "language": "python",
     "metadata": {},
     "outputs": [
      {
       "output_type": "stream",
       "stream": "stdout",
       "text": [
        "10 loops, best of 2: 42.8 ms per loop\n"
       ]
      }
     ],
     "prompt_number": 9
    },
    {
     "cell_type": "markdown",
     "metadata": {},
     "source": [
      "## Benchmarks: selecting clusters"
     ]
    },
    {
     "cell_type": "code",
     "collapsed": false,
     "input": [
      "clusters = main_file.root.shanks.shank0.spikes.col('cluster')\n",
      "clusters_unique = np.unique(clusters)"
     ],
     "language": "python",
     "metadata": {},
     "outputs": [],
     "prompt_number": 10
    },
    {
     "cell_type": "code",
     "collapsed": false,
     "input": [
      "cluster = 5\n",
      "# WARNING: it can be read_where in newer versions of PyTables!\n",
      "cluster5 = main_file.root.shanks.shank0.spikes.readWhere('cluster=={0:d}'.format(cluster))\n",
      "cluster5.shape"
     ],
     "language": "python",
     "metadata": {},
     "outputs": [
      {
       "metadata": {},
       "output_type": "pyout",
       "prompt_number": 11,
       "text": [
        "(2174L,)"
       ]
      }
     ],
     "prompt_number": 11
    },
    {
     "cell_type": "code",
     "collapsed": false,
     "input": [
      "cluster5_spk = main_file.root.shanks.shank0.spikes.getWhereList('cluster=={0:d}'.format(cluster))\n",
      "cluster5_spk"
     ],
     "language": "python",
     "metadata": {},
     "outputs": [
      {
       "metadata": {},
       "output_type": "pyout",
       "prompt_number": 12,
       "text": [
        "array([    492,     794,     862, ..., 1464179, 1464180, 1464181], dtype=int64)"
       ]
      }
     ],
     "prompt_number": 12
    },
    {
     "cell_type": "code",
     "collapsed": false,
     "input": [
      "%timeit -n 10 -r 2 main_file.root.shanks.shank0.spikes.readWhere('cluster=={0:d}'.format(cluster))"
     ],
     "language": "python",
     "metadata": {},
     "outputs": [
      {
       "output_type": "stream",
       "stream": "stdout",
       "text": [
        "10 loops, best of 2: 63.1 ms per loop\n"
       ]
      }
     ],
     "prompt_number": 13
    },
    {
     "cell_type": "code",
     "collapsed": false,
     "input": [
      "features = pd.DataFrame(cluster5['features'], index=cluster5_spk)"
     ],
     "language": "python",
     "metadata": {},
     "outputs": [],
     "prompt_number": 31
    }
   ],
   "metadata": {}
  }
 ]
}