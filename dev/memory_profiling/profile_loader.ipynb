{
 "metadata": {
  "name": ""
 },
 "nbformat": 3,
 "nbformat_minor": 0,
 "worksheets": [
  {
   "cells": [
    {
     "cell_type": "code",
     "collapsed": false,
     "input": [
      "import os\n",
      "import numpy as np\n",
      "import memory_profiler\n",
      "import gc\n",
      "from operator import itemgetter\n",
      "from pympler.asizeof import asizeof\n",
      "from klustaviewa.dataio import HDF5Loader\n",
      "from memprof import profile_mem, fmtsize"
     ],
     "language": "python",
     "metadata": {},
     "outputs": [],
     "prompt_number": 38
    },
    {
     "cell_type": "code",
     "collapsed": false,
     "input": [
      "filename = r\"D:\\Spike sorting\\second\\testalignment_secondnearest_subset_129989.clu.1\""
     ],
     "language": "python",
     "metadata": {},
     "outputs": [],
     "prompt_number": 25
    },
    {
     "cell_type": "code",
     "collapsed": false,
     "input": [
      "loader = HDF5Loader(filename=filename)"
     ],
     "language": "python",
     "metadata": {},
     "outputs": [
      {
       "output_type": "stream",
       "stream": "stdout",
       "text": [
        "2013-08-02 11:09:54  hdf5loader:65           Similarity measure: gaussian.\n"
       ]
      },
      {
       "output_type": "stream",
       "stream": "stdout",
       "text": [
        "2013-08-02 11:09:54  hdf5loader:66           Opening D:\\Spike sorting\\second\\testalignment_secondnearest_subset_129989.main.h5.\n"
       ]
      }
     ],
     "prompt_number": 26
    },
    {
     "cell_type": "code",
     "collapsed": false,
     "input": [
      "profile_mem(loader)"
     ],
     "language": "python",
     "metadata": {},
     "outputs": [
      {
       "output_type": "stream",
       "stream": "stdout",
       "text": [
        "TOTAL SIZE: 51.884 MB\n",
        "\n",
        "24.049 MB\tbackground_masks\n",
        "24.049 MB\tbackground_features\n",
        "0.871 MB\t__dict__\n",
        "0.870 MB\tlogfile\n",
        "0.496 MB\tspiketimes\n",
        "0.496 MB\tclusters\n",
        "0.248 MB\tbackground_clusters\n",
        "0.096 MB\tfeatures\n",
        "0.096 MB\tmasks\n",
        "0.096 MB\tmasks_full\n",
        "0.096 MB\tmain\n",
        "0.096 MB\tgroups_table\n",
        "0.096 MB\tclusters_table\n",
        "0.096 MB\tspike_table\n",
        "0.096 MB\twave_table\n",
        "0.029 MB\twaveforms\n",
        "0.006 MB\tcounter\n"
       ]
      }
     ],
     "prompt_number": 27
    },
    {
     "cell_type": "code",
     "collapsed": false,
     "input": [
      "loader.select(clusters=range(2, 100, 2))\n",
      "f = loader.get_features()\n",
      "m = loader.get_masks()\n",
      "w = loader.get_waveforms()"
     ],
     "language": "python",
     "metadata": {},
     "outputs": [],
     "prompt_number": 28
    },
    {
     "cell_type": "code",
     "collapsed": false,
     "input": [
      "profile_mem(loader)"
     ],
     "language": "python",
     "metadata": {},
     "outputs": [
      {
       "output_type": "stream",
       "stream": "stdout",
       "text": [
        "TOTAL SIZE: 79.567 MB\n",
        "\n",
        "27.553 MB\tspikes_selected_table\n",
        "24.049 MB\tbackground_masks\n",
        "24.049 MB\tbackground_features\n",
        "0.873 MB\tlogfile\n",
        "0.872 MB\t__dict__\n",
        "0.496 MB\tspiketimes\n",
        "0.496 MB\tclusters\n",
        "0.248 MB\tbackground_clusters\n",
        "0.124 MB\tspikes_selected\n",
        "0.096 MB\tfeatures\n",
        "0.096 MB\tmasks\n",
        "0.096 MB\tmasks_full\n",
        "0.096 MB\tmain\n",
        "0.096 MB\tgroups_table\n",
        "0.096 MB\tclusters_table\n",
        "0.096 MB\tspike_table\n",
        "0.096 MB\twave_table\n",
        "0.029 MB\twaveforms\n",
        "0.006 MB\tcounter\n",
        "0.001 MB\tclusters_selected\n"
       ]
      }
     ],
     "prompt_number": 30
    },
    {
     "cell_type": "code",
     "collapsed": false,
     "input": [
      "def test1():\n",
      "    clusters_list = [range(2, 100, 2), range(3, 101, 2)]\n",
      "    for n in xrange(21):\n",
      "        clusters = clusters_list[n % len(clusters_list)]\n",
      "        loader.select(clusters=clusters)\n",
      "        f = loader.get_features()\n",
      "        m = loader.get_masks()\n",
      "        w = loader.get_waveforms()"
     ],
     "language": "python",
     "metadata": {},
     "outputs": [],
     "prompt_number": 31
    },
    {
     "cell_type": "code",
     "collapsed": false,
     "input": [
      "test1()"
     ],
     "language": "python",
     "metadata": {},
     "outputs": [],
     "prompt_number": 32
    },
    {
     "cell_type": "code",
     "collapsed": false,
     "input": [
      "profile_mem(loader)"
     ],
     "language": "python",
     "metadata": {},
     "outputs": [
      {
       "output_type": "stream",
       "stream": "stdout",
       "text": [
        "TOTAL SIZE: 79.572 MB\n",
        "\n",
        "27.553 MB\tspikes_selected_table\n",
        "24.049 MB\tbackground_masks\n",
        "24.049 MB\tbackground_features\n",
        "0.875 MB\tlogfile\n",
        "0.875 MB\t__dict__\n",
        "0.496 MB\tspiketimes\n",
        "0.496 MB\tclusters\n",
        "0.248 MB\tbackground_clusters\n",
        "0.124 MB\tspikes_selected\n",
        "0.096 MB\tfeatures\n",
        "0.096 MB\tmasks\n",
        "0.096 MB\tmasks_full\n",
        "0.096 MB\tmain\n",
        "0.096 MB\tgroups_table\n",
        "0.096 MB\tclusters_table\n",
        "0.096 MB\tspike_table\n",
        "0.096 MB\twave_table\n",
        "0.029 MB\twaveforms\n",
        "0.006 MB\tcounter\n",
        "0.001 MB\tclusters_selected\n"
       ]
      }
     ],
     "prompt_number": 33
    }
   ],
   "metadata": {}
  }
 ]
}