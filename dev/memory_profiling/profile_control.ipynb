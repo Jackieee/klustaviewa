{
 "metadata": {
  "name": ""
 },
 "nbformat": 3,
 "nbformat_minor": 0,
 "worksheets": [
  {
   "cells": [
    {
     "cell_type": "code",
     "collapsed": false,
     "input": [
      "import os\n",
      "import numpy as np\n",
      "import memory_profiler\n",
      "import gc\n",
      "from operator import itemgetter\n",
      "from pympler.asizeof import asizeof\n",
      "from klustaviewa.dataio import HDF5Loader\n",
      "from klustaviewa.control import Controller\n",
      "from memprof import profile_mem, fmtsize"
     ],
     "language": "python",
     "metadata": {},
     "outputs": [],
     "prompt_number": 1
    },
    {
     "cell_type": "code",
     "collapsed": false,
     "input": [
      "filename = r\"D:\\Spike sorting\\second\\testalignment_secondnearest_subset_129989.clu.1\""
     ],
     "language": "python",
     "metadata": {},
     "outputs": [],
     "prompt_number": 2
    },
    {
     "cell_type": "code",
     "collapsed": false,
     "input": [
      "loader = HDF5Loader(filename=filename)"
     ],
     "language": "python",
     "metadata": {},
     "outputs": [
      {
       "output_type": "stream",
       "stream": "stdout",
       "text": [
        "2013-08-02 11:23:21  hdf5loader:65           Similarity measure: gaussian.\n"
       ]
      },
      {
       "output_type": "stream",
       "stream": "stdout",
       "text": [
        "2013-08-02 11:23:21  hdf5loader:66           Opening D:\\Spike sorting\\second\\testalignment_secondnearest_subset_129989.main.h5.\n"
       ]
      }
     ],
     "prompt_number": 3
    },
    {
     "cell_type": "code",
     "collapsed": false,
     "input": [
      "controller = Controller(loader)"
     ],
     "language": "python",
     "metadata": {},
     "outputs": [],
     "prompt_number": 4
    },
    {
     "cell_type": "code",
     "collapsed": false,
     "input": [
      "profile_mem(loader)"
     ],
     "language": "python",
     "metadata": {},
     "outputs": [
      {
       "output_type": "stream",
       "stream": "stdout",
       "text": [
        "TOTAL SIZE: 51.655 MB\n",
        "\n",
        "24.049 MB\tbackground_masks\n",
        "24.049 MB\tbackground_features\n",
        "0.757 MB\t__dict__\n",
        "0.756 MB\tlogfile\n",
        "0.496 MB\tspiketimes\n",
        "0.496 MB\tclusters\n",
        "0.248 MB\tbackground_clusters\n",
        "0.096 MB\tfeatures\n",
        "0.096 MB\tmasks\n",
        "0.096 MB\tmasks_full\n",
        "0.096 MB\tmain\n",
        "0.096 MB\tgroups_table\n",
        "0.096 MB\tclusters_table\n",
        "0.096 MB\tspike_table\n",
        "0.096 MB\twave_table\n",
        "0.029 MB\twaveforms\n",
        "0.006 MB\tcounter\n"
       ]
      }
     ],
     "prompt_number": 5
    },
    {
     "cell_type": "code",
     "collapsed": false,
     "input": [
      "profile_mem(controller)"
     ],
     "language": "python",
     "metadata": {},
     "outputs": [
      {
       "output_type": "stream",
       "stream": "stdout",
       "text": [
        "TOTAL SIZE: 2.272 MB\n",
        "\n",
        "0.757 MB\t__dict__\n",
        "0.757 MB\tloader\n",
        "0.757 MB\tprocessor\n"
       ]
      }
     ],
     "prompt_number": 6
    },
    {
     "cell_type": "code",
     "collapsed": false,
     "input": [
      "loader.get_clusters_unique()"
     ],
     "language": "python",
     "metadata": {},
     "outputs": [
      {
       "metadata": {},
       "output_type": "pyout",
       "prompt_number": 7,
       "text": [
        "array([ 2,  3,  4,  5,  6,  7,  8,  9, 10, 11, 12, 13, 14, 15, 16, 17, 18,\n",
        "       19, 20, 21, 22, 23, 24, 25, 26, 27, 28, 29, 30, 31, 32, 33, 34, 35,\n",
        "       36, 37, 38, 39, 40, 41, 42, 43, 44, 45, 46, 47, 48, 49, 50, 51, 52])"
       ]
      }
     ],
     "prompt_number": 7
    },
    {
     "cell_type": "code",
     "collapsed": false,
     "input": [
      "controller.merge_clusters([5, 6])"
     ],
     "language": "python",
     "metadata": {},
     "outputs": [
      {
       "output_type": "stream",
       "stream": "stdout",
       "text": [
        "2013-08-02 11:23:23  controller:71           Process action merge_clusters([5, ..., 5], [3, ..., 3], [4, ..., 5], 53)\n"
       ]
      },
      {
       "metadata": {},
       "output_type": "pyout",
       "prompt_number": 8,
       "text": [
        "('merge_clusters',\n",
        " {'cluster_merged': 53,\n",
        "  'cluster_merged_colors': (34, 34),\n",
        "  'clusters_to_merge': Int64Index([5, 6], dtype=int64)})"
       ]
      }
     ],
     "prompt_number": 8
    },
    {
     "cell_type": "code",
     "collapsed": false,
     "input": [
      "profile_mem(loader)"
     ],
     "language": "python",
     "metadata": {},
     "outputs": [
      {
       "output_type": "stream",
       "stream": "stdout",
       "text": [
        "TOTAL SIZE: 51.694 MB\n",
        "\n",
        "24.049 MB\tbackground_masks\n",
        "24.049 MB\tbackground_features\n",
        "0.776 MB\t__dict__\n",
        "0.776 MB\tlogfile\n",
        "0.496 MB\tspiketimes\n",
        "0.496 MB\tclusters\n",
        "0.248 MB\tbackground_clusters\n",
        "0.096 MB\tfeatures\n",
        "0.096 MB\tmasks\n",
        "0.096 MB\tmasks_full\n",
        "0.096 MB\tmain\n",
        "0.096 MB\tgroups_table\n",
        "0.096 MB\tclusters_table\n",
        "0.096 MB\tspike_table\n",
        "0.096 MB\twave_table\n",
        "0.029 MB\twaveforms\n",
        "0.005 MB\tcounter\n"
       ]
      }
     ],
     "prompt_number": 9
    },
    {
     "cell_type": "code",
     "collapsed": false,
     "input": [
      "controller.undo()"
     ],
     "language": "python",
     "metadata": {},
     "outputs": [
      {
       "output_type": "stream",
       "stream": "stdout",
       "text": [
        "2013-08-02 11:23:43  controller:150          Undo action merge_clusters([5, ..., 5], [3, ..., 3], [4, ..., 5], 53)\n"
       ]
      },
      {
       "metadata": {},
       "output_type": "pyout",
       "prompt_number": 10,
       "text": [
        "('merge_clusters_undo',\n",
        " {'cluster_merged': 53,\n",
        "  'cluster_to_merge_colors': (array(4L, dtype=int64), array(5L, dtype=int64)),\n",
        "  'clusters_to_merge': Int64Index([5, 6], dtype=int64)})"
       ]
      }
     ],
     "prompt_number": 10
    },
    {
     "cell_type": "code",
     "collapsed": false,
     "input": [
      "profile_mem(loader)"
     ],
     "language": "python",
     "metadata": {},
     "outputs": [
      {
       "output_type": "stream",
       "stream": "stdout",
       "text": [
        "TOTAL SIZE: 51.703 MB\n",
        "\n",
        "24.049 MB\tbackground_masks\n",
        "24.049 MB\tbackground_features\n",
        "0.780 MB\t__dict__\n",
        "0.780 MB\tlogfile\n",
        "0.496 MB\tspiketimes\n",
        "0.496 MB\tclusters\n",
        "0.248 MB\tbackground_clusters\n",
        "0.096 MB\tfeatures\n",
        "0.096 MB\tmasks\n",
        "0.096 MB\tmasks_full\n",
        "0.096 MB\tmain\n",
        "0.096 MB\tgroups_table\n",
        "0.096 MB\tclusters_table\n",
        "0.096 MB\tspike_table\n",
        "0.096 MB\twave_table\n",
        "0.029 MB\twaveforms\n",
        "0.006 MB\tcounter\n"
       ]
      }
     ],
     "prompt_number": 11
    },
    {
     "cell_type": "code",
     "collapsed": false,
     "input": [
      "for n in xrange(50):\n",
      "    controller.merge_clusters(range(5, 20, 2))\n",
      "    controller.undo()"
     ],
     "language": "python",
     "metadata": {},
     "outputs": [
      {
       "output_type": "stream",
       "stream": "stdout",
       "text": [
        "2013-08-02 11:24:14  controller:71           Process action merge_clusters([19, ..., 19], [3, ..., 3], [4, ..., 18], 53)\n"
       ]
      },
      {
       "output_type": "stream",
       "stream": "stdout",
       "text": [
        "2013-08-02 11:24:14  controller:150          Undo action merge_clusters([19, ..., 19], [3, ..., 3], [4, ..., 18], 53)\n"
       ]
      },
      {
       "output_type": "stream",
       "stream": "stdout",
       "text": [
        "2013-08-02 11:24:14  controller:71           Process action merge_clusters([19, ..., 19], [3, ..., 3], [4, ..., 18], 53)\n"
       ]
      },
      {
       "output_type": "stream",
       "stream": "stdout",
       "text": [
        "2013-08-02 11:24:14  controller:150          Undo action merge_clusters([19, ..., 19], [3, ..., 3], [4, ..., 18], 53)\n"
       ]
      },
      {
       "output_type": "stream",
       "stream": "stdout",
       "text": [
        "2013-08-02 11:24:14  controller:71           Process action merge_clusters([19, ..., 19], [3, ..., 3], [4, ..., 18], 53)\n"
       ]
      },
      {
       "output_type": "stream",
       "stream": "stdout",
       "text": [
        "2013-08-02 11:24:14  controller:150          Undo action merge_clusters([19, ..., 19], [3, ..., 3], [4, ..., 18], 53)\n"
       ]
      },
      {
       "output_type": "stream",
       "stream": "stdout",
       "text": [
        "2013-08-02 11:24:14  controller:71           Process action merge_clusters([19, ..., 19], [3, ..., 3], [4, ..., 18], 53)\n"
       ]
      },
      {
       "output_type": "stream",
       "stream": "stdout",
       "text": [
        "2013-08-02 11:24:14  controller:150          Undo action merge_clusters([19, ..., 19], [3, ..., 3], [4, ..., 18], 53)\n"
       ]
      },
      {
       "output_type": "stream",
       "stream": "stdout",
       "text": [
        "2013-08-02 11:24:14  controller:71           Process action merge_clusters([19, ..., 19], [3, ..., 3], [4, ..., 18], 53)\n"
       ]
      },
      {
       "output_type": "stream",
       "stream": "stdout",
       "text": [
        "2013-08-02 11:24:14  controller:150          Undo action merge_clusters([19, ..., 19], [3, ..., 3], [4, ..., 18], 53)\n"
       ]
      },
      {
       "output_type": "stream",
       "stream": "stdout",
       "text": [
        "2013-08-02 11:24:14  controller:71           Process action merge_clusters([19, ..., 19], [3, ..., 3], [4, ..., 18], 53)\n"
       ]
      },
      {
       "output_type": "stream",
       "stream": "stdout",
       "text": [
        "2013-08-02 11:24:15  controller:150          Undo action merge_clusters([19, ..., 19], [3, ..., 3], [4, ..., 18], 53)\n"
       ]
      },
      {
       "output_type": "stream",
       "stream": "stdout",
       "text": [
        "2013-08-02 11:24:15  controller:71           Process action merge_clusters([19, ..., 19], [3, ..., 3], [4, ..., 18], 53)\n"
       ]
      },
      {
       "output_type": "stream",
       "stream": "stdout",
       "text": [
        "2013-08-02 11:24:15  controller:150          Undo action merge_clusters([19, ..., 19], [3, ..., 3], [4, ..., 18], 53)\n"
       ]
      },
      {
       "output_type": "stream",
       "stream": "stdout",
       "text": [
        "2013-08-02 11:24:15  controller:71           Process action merge_clusters([19, ..., 19], [3, ..., 3], [4, ..., 18], 53)\n"
       ]
      },
      {
       "output_type": "stream",
       "stream": "stdout",
       "text": [
        "2013-08-02 11:24:15  controller:150          Undo action merge_clusters([19, ..., 19], [3, ..., 3], [4, ..., 18], 53)\n"
       ]
      },
      {
       "output_type": "stream",
       "stream": "stdout",
       "text": [
        "2013-08-02 11:24:15  controller:71           Process action merge_clusters([19, ..., 19], [3, ..., 3], [4, ..., 18], 53)\n"
       ]
      },
      {
       "output_type": "stream",
       "stream": "stdout",
       "text": [
        "2013-08-02 11:24:15  controller:150          Undo action merge_clusters([19, ..., 19], [3, ..., 3], [4, ..., 18], 53)\n"
       ]
      },
      {
       "output_type": "stream",
       "stream": "stdout",
       "text": [
        "2013-08-02 11:24:15  controller:71           Process action merge_clusters([19, ..., 19], [3, ..., 3], [4, ..., 18], 53)\n"
       ]
      },
      {
       "output_type": "stream",
       "stream": "stdout",
       "text": [
        "2013-08-02 11:24:15  controller:150          Undo action merge_clusters([19, ..., 19], [3, ..., 3], [4, ..., 18], 53)\n"
       ]
      },
      {
       "output_type": "stream",
       "stream": "stdout",
       "text": [
        "2013-08-02 11:24:15  controller:71           Process action merge_clusters([19, ..., 19], [3, ..., 3], [4, ..., 18], 53)\n"
       ]
      },
      {
       "output_type": "stream",
       "stream": "stdout",
       "text": [
        "2013-08-02 11:24:15  controller:150          Undo action merge_clusters([19, ..., 19], [3, ..., 3], [4, ..., 18], 53)\n"
       ]
      },
      {
       "output_type": "stream",
       "stream": "stdout",
       "text": [
        "2013-08-02 11:24:15  controller:71           Process action merge_clusters([19, ..., 19], [3, ..., 3], [4, ..., 18], 53)\n"
       ]
      },
      {
       "output_type": "stream",
       "stream": "stdout",
       "text": [
        "2013-08-02 11:24:16  controller:150          Undo action merge_clusters([19, ..., 19], [3, ..., 3], [4, ..., 18], 53)\n"
       ]
      },
      {
       "output_type": "stream",
       "stream": "stdout",
       "text": [
        "2013-08-02 11:24:16  controller:71           Process action merge_clusters([19, ..., 19], [3, ..., 3], [4, ..., 18], 53)\n"
       ]
      },
      {
       "output_type": "stream",
       "stream": "stdout",
       "text": [
        "2013-08-02 11:24:16  controller:150          Undo action merge_clusters([19, ..., 19], [3, ..., 3], [4, ..., 18], 53)\n"
       ]
      },
      {
       "output_type": "stream",
       "stream": "stdout",
       "text": [
        "2013-08-02 11:24:16  controller:71           Process action merge_clusters([19, ..., 19], [3, ..., 3], [4, ..., 18], 53)\n"
       ]
      },
      {
       "output_type": "stream",
       "stream": "stdout",
       "text": [
        "2013-08-02 11:24:16  controller:150          Undo action merge_clusters([19, ..., 19], [3, ..., 3], [4, ..., 18], 53)\n"
       ]
      },
      {
       "output_type": "stream",
       "stream": "stdout",
       "text": [
        "2013-08-02 11:24:16  controller:71           Process action merge_clusters([19, ..., 19], [3, ..., 3], [4, ..., 18], 53)\n"
       ]
      },
      {
       "output_type": "stream",
       "stream": "stdout",
       "text": [
        "2013-08-02 11:24:16  controller:150          Undo action merge_clusters([19, ..., 19], [3, ..., 3], [4, ..., 18], 53)\n"
       ]
      },
      {
       "output_type": "stream",
       "stream": "stdout",
       "text": [
        "2013-08-02 11:24:16  controller:71           Process action merge_clusters([19, ..., 19], [3, ..., 3], [4, ..., 18], 53)\n"
       ]
      },
      {
       "output_type": "stream",
       "stream": "stdout",
       "text": [
        "2013-08-02 11:24:16  controller:150          Undo action merge_clusters([19, ..., 19], [3, ..., 3], [4, ..., 18], 53)\n"
       ]
      },
      {
       "output_type": "stream",
       "stream": "stdout",
       "text": [
        "2013-08-02 11:24:16  controller:71           Process action merge_clusters([19, ..., 19], [3, ..., 3], [4, ..., 18], 53)\n"
       ]
      },
      {
       "output_type": "stream",
       "stream": "stdout",
       "text": [
        "2013-08-02 11:24:16  controller:150          Undo action merge_clusters([19, ..., 19], [3, ..., 3], [4, ..., 18], 53)\n"
       ]
      },
      {
       "output_type": "stream",
       "stream": "stdout",
       "text": [
        "2013-08-02 11:24:16  controller:71           Process action merge_clusters([19, ..., 19], [3, ..., 3], [4, ..., 18], 53)\n"
       ]
      },
      {
       "output_type": "stream",
       "stream": "stdout",
       "text": [
        "2013-08-02 11:24:16  controller:150          Undo action merge_clusters([19, ..., 19], [3, ..., 3], [4, ..., 18], 53)\n"
       ]
      },
      {
       "output_type": "stream",
       "stream": "stdout",
       "text": [
        "2013-08-02 11:24:17  controller:71           Process action merge_clusters([19, ..., 19], [3, ..., 3], [4, ..., 18], 53)\n"
       ]
      },
      {
       "output_type": "stream",
       "stream": "stdout",
       "text": [
        "2013-08-02 11:24:17  controller:150          Undo action merge_clusters([19, ..., 19], [3, ..., 3], [4, ..., 18], 53)\n"
       ]
      },
      {
       "output_type": "stream",
       "stream": "stdout",
       "text": [
        "2013-08-02 11:24:17  controller:71           Process action merge_clusters([19, ..., 19], [3, ..., 3], [4, ..., 18], 53)\n"
       ]
      },
      {
       "output_type": "stream",
       "stream": "stdout",
       "text": [
        "2013-08-02 11:24:17  controller:150          Undo action merge_clusters([19, ..., 19], [3, ..., 3], [4, ..., 18], 53)\n"
       ]
      },
      {
       "output_type": "stream",
       "stream": "stdout",
       "text": [
        "2013-08-02 11:24:17  controller:71           Process action merge_clusters([19, ..., 19], [3, ..., 3], [4, ..., 18], 53)\n"
       ]
      },
      {
       "output_type": "stream",
       "stream": "stdout",
       "text": [
        "2013-08-02 11:24:17  controller:150          Undo action merge_clusters([19, ..., 19], [3, ..., 3], [4, ..., 18], 53)\n"
       ]
      },
      {
       "output_type": "stream",
       "stream": "stdout",
       "text": [
        "2013-08-02 11:24:17  controller:71           Process action merge_clusters([19, ..., 19], [3, ..., 3], [4, ..., 18], 53)\n"
       ]
      },
      {
       "output_type": "stream",
       "stream": "stdout",
       "text": [
        "2013-08-02 11:24:17  controller:150          Undo action merge_clusters([19, ..., 19], [3, ..., 3], [4, ..., 18], 53)\n"
       ]
      },
      {
       "output_type": "stream",
       "stream": "stdout",
       "text": [
        "2013-08-02 11:24:17  controller:71           Process action merge_clusters([19, ..., 19], [3, ..., 3], [4, ..., 18], 53)\n"
       ]
      },
      {
       "output_type": "stream",
       "stream": "stdout",
       "text": [
        "2013-08-02 11:24:17  controller:150          Undo action merge_clusters([19, ..., 19], [3, ..., 3], [4, ..., 18], 53)\n"
       ]
      },
      {
       "output_type": "stream",
       "stream": "stdout",
       "text": [
        "2013-08-02 11:24:17  controller:71           Process action merge_clusters([19, ..., 19], [3, ..., 3], [4, ..., 18], 53)\n"
       ]
      },
      {
       "output_type": "stream",
       "stream": "stdout",
       "text": [
        "2013-08-02 11:24:17  controller:150          Undo action merge_clusters([19, ..., 19], [3, ..., 3], [4, ..., 18], 53)\n"
       ]
      },
      {
       "output_type": "stream",
       "stream": "stdout",
       "text": [
        "2013-08-02 11:24:17  controller:71           Process action merge_clusters([19, ..., 19], [3, ..., 3], [4, ..., 18], 53)\n"
       ]
      },
      {
       "output_type": "stream",
       "stream": "stdout",
       "text": [
        "2013-08-02 11:24:18  controller:150          Undo action merge_clusters([19, ..., 19], [3, ..., 3], [4, ..., 18], 53)\n"
       ]
      },
      {
       "output_type": "stream",
       "stream": "stdout",
       "text": [
        "2013-08-02 11:24:18  controller:71           Process action merge_clusters([19, ..., 19], [3, ..., 3], [4, ..., 18], 53)\n"
       ]
      },
      {
       "output_type": "stream",
       "stream": "stdout",
       "text": [
        "2013-08-02 11:24:18  controller:150          Undo action merge_clusters([19, ..., 19], [3, ..., 3], [4, ..., 18], 53)\n"
       ]
      },
      {
       "output_type": "stream",
       "stream": "stdout",
       "text": [
        "2013-08-02 11:24:18  controller:71           Process action merge_clusters([19, ..., 19], [3, ..., 3], [4, ..., 18], 53)\n"
       ]
      },
      {
       "output_type": "stream",
       "stream": "stdout",
       "text": [
        "2013-08-02 11:24:18  controller:150          Undo action merge_clusters([19, ..., 19], [3, ..., 3], [4, ..., 18], 53)\n"
       ]
      },
      {
       "output_type": "stream",
       "stream": "stdout",
       "text": [
        "2013-08-02 11:24:18  controller:71           Process action merge_clusters([19, ..., 19], [3, ..., 3], [4, ..., 18], 53)\n"
       ]
      },
      {
       "output_type": "stream",
       "stream": "stdout",
       "text": [
        "2013-08-02 11:24:18  controller:150          Undo action merge_clusters([19, ..., 19], [3, ..., 3], [4, ..., 18], 53)\n"
       ]
      },
      {
       "output_type": "stream",
       "stream": "stdout",
       "text": [
        "2013-08-02 11:24:18  controller:71           Process action merge_clusters([19, ..., 19], [3, ..., 3], [4, ..., 18], 53)\n"
       ]
      },
      {
       "output_type": "stream",
       "stream": "stdout",
       "text": [
        "2013-08-02 11:24:18  controller:150          Undo action merge_clusters([19, ..., 19], [3, ..., 3], [4, ..., 18], 53)\n"
       ]
      },
      {
       "output_type": "stream",
       "stream": "stdout",
       "text": [
        "2013-08-02 11:24:18  controller:71           Process action merge_clusters([19, ..., 19], [3, ..., 3], [4, ..., 18], 53)\n"
       ]
      },
      {
       "output_type": "stream",
       "stream": "stdout",
       "text": [
        "2013-08-02 11:24:18  controller:150          Undo action merge_clusters([19, ..., 19], [3, ..., 3], [4, ..., 18], 53)\n"
       ]
      },
      {
       "output_type": "stream",
       "stream": "stdout",
       "text": [
        "2013-08-02 11:24:18  controller:71           Process action merge_clusters([19, ..., 19], [3, ..., 3], [4, ..., 18], 53)\n"
       ]
      },
      {
       "output_type": "stream",
       "stream": "stdout",
       "text": [
        "2013-08-02 11:24:19  controller:150          Undo action merge_clusters([19, ..., 19], [3, ..., 3], [4, ..., 18], 53)\n"
       ]
      },
      {
       "output_type": "stream",
       "stream": "stdout",
       "text": [
        "2013-08-02 11:24:19  controller:71           Process action merge_clusters([19, ..., 19], [3, ..., 3], [4, ..., 18], 53)\n"
       ]
      },
      {
       "output_type": "stream",
       "stream": "stdout",
       "text": [
        "2013-08-02 11:24:19  controller:150          Undo action merge_clusters([19, ..., 19], [3, ..., 3], [4, ..., 18], 53)\n"
       ]
      },
      {
       "output_type": "stream",
       "stream": "stdout",
       "text": [
        "2013-08-02 11:24:19  controller:71           Process action merge_clusters([19, ..., 19], [3, ..., 3], [4, ..., 18], 53)\n"
       ]
      },
      {
       "output_type": "stream",
       "stream": "stdout",
       "text": [
        "2013-08-02 11:24:19  controller:150          Undo action merge_clusters([19, ..., 19], [3, ..., 3], [4, ..., 18], 53)\n"
       ]
      },
      {
       "output_type": "stream",
       "stream": "stdout",
       "text": [
        "2013-08-02 11:24:19  controller:71           Process action merge_clusters([19, ..., 19], [3, ..., 3], [4, ..., 18], 53)\n"
       ]
      },
      {
       "output_type": "stream",
       "stream": "stdout",
       "text": [
        "2013-08-02 11:24:19  controller:150          Undo action merge_clusters([19, ..., 19], [3, ..., 3], [4, ..., 18], 53)\n"
       ]
      },
      {
       "output_type": "stream",
       "stream": "stdout",
       "text": [
        "2013-08-02 11:24:19  controller:71           Process action merge_clusters([19, ..., 19], [3, ..., 3], [4, ..., 18], 53)\n"
       ]
      },
      {
       "output_type": "stream",
       "stream": "stdout",
       "text": [
        "2013-08-02 11:24:19  controller:150          Undo action merge_clusters([19, ..., 19], [3, ..., 3], [4, ..., 18], 53)\n"
       ]
      },
      {
       "output_type": "stream",
       "stream": "stdout",
       "text": [
        "2013-08-02 11:24:19  controller:71           Process action merge_clusters([19, ..., 19], [3, ..., 3], [4, ..., 18], 53)\n"
       ]
      },
      {
       "output_type": "stream",
       "stream": "stdout",
       "text": [
        "2013-08-02 11:24:19  controller:150          Undo action merge_clusters([19, ..., 19], [3, ..., 3], [4, ..., 18], 53)\n"
       ]
      },
      {
       "output_type": "stream",
       "stream": "stdout",
       "text": [
        "2013-08-02 11:24:19  controller:71           Process action merge_clusters([19, ..., 19], [3, ..., 3], [4, ..., 18], 53)\n"
       ]
      },
      {
       "output_type": "stream",
       "stream": "stdout",
       "text": [
        "2013-08-02 11:24:19  controller:150          Undo action merge_clusters([19, ..., 19], [3, ..., 3], [4, ..., 18], 53)\n"
       ]
      },
      {
       "output_type": "stream",
       "stream": "stdout",
       "text": [
        "2013-08-02 11:24:20  controller:71           Process action merge_clusters([19, ..., 19], [3, ..., 3], [4, ..., 18], 53)\n"
       ]
      },
      {
       "output_type": "stream",
       "stream": "stdout",
       "text": [
        "2013-08-02 11:24:20  controller:150          Undo action merge_clusters([19, ..., 19], [3, ..., 3], [4, ..., 18], 53)\n"
       ]
      },
      {
       "output_type": "stream",
       "stream": "stdout",
       "text": [
        "2013-08-02 11:24:20  controller:71           Process action merge_clusters([19, ..., 19], [3, ..., 3], [4, ..., 18], 53)\n"
       ]
      },
      {
       "output_type": "stream",
       "stream": "stdout",
       "text": [
        "2013-08-02 11:24:20  controller:150          Undo action merge_clusters([19, ..., 19], [3, ..., 3], [4, ..., 18], 53)\n"
       ]
      },
      {
       "output_type": "stream",
       "stream": "stdout",
       "text": [
        "2013-08-02 11:24:20  controller:71           Process action merge_clusters([19, ..., 19], [3, ..., 3], [4, ..., 18], 53)\n"
       ]
      },
      {
       "output_type": "stream",
       "stream": "stdout",
       "text": [
        "2013-08-02 11:24:20  controller:150          Undo action merge_clusters([19, ..., 19], [3, ..., 3], [4, ..., 18], 53)\n"
       ]
      },
      {
       "output_type": "stream",
       "stream": "stdout",
       "text": [
        "2013-08-02 11:24:20  controller:71           Process action merge_clusters([19, ..., 19], [3, ..., 3], [4, ..., 18], 53)\n"
       ]
      },
      {
       "output_type": "stream",
       "stream": "stdout",
       "text": [
        "2013-08-02 11:24:20  controller:150          Undo action merge_clusters([19, ..., 19], [3, ..., 3], [4, ..., 18], 53)\n"
       ]
      },
      {
       "output_type": "stream",
       "stream": "stdout",
       "text": [
        "2013-08-02 11:24:20  controller:71           Process action merge_clusters([19, ..., 19], [3, ..., 3], [4, ..., 18], 53)\n"
       ]
      },
      {
       "output_type": "stream",
       "stream": "stdout",
       "text": [
        "2013-08-02 11:24:20  controller:150          Undo action merge_clusters([19, ..., 19], [3, ..., 3], [4, ..., 18], 53)\n"
       ]
      },
      {
       "output_type": "stream",
       "stream": "stdout",
       "text": [
        "2013-08-02 11:24:20  controller:71           Process action merge_clusters([19, ..., 19], [3, ..., 3], [4, ..., 18], 53)\n"
       ]
      },
      {
       "output_type": "stream",
       "stream": "stdout",
       "text": [
        "2013-08-02 11:24:20  controller:150          Undo action merge_clusters([19, ..., 19], [3, ..., 3], [4, ..., 18], 53)\n"
       ]
      },
      {
       "output_type": "stream",
       "stream": "stdout",
       "text": [
        "2013-08-02 11:24:21  controller:71           Process action merge_clusters([19, ..., 19], [3, ..., 3], [4, ..., 18], 53)\n"
       ]
      },
      {
       "output_type": "stream",
       "stream": "stdout",
       "text": [
        "2013-08-02 11:24:21  controller:150          Undo action merge_clusters([19, ..., 19], [3, ..., 3], [4, ..., 18], 53)\n"
       ]
      },
      {
       "output_type": "stream",
       "stream": "stdout",
       "text": [
        "2013-08-02 11:24:21  controller:71           Process action merge_clusters([19, ..., 19], [3, ..., 3], [4, ..., 18], 53)\n"
       ]
      },
      {
       "output_type": "stream",
       "stream": "stdout",
       "text": [
        "2013-08-02 11:24:21  controller:150          Undo action merge_clusters([19, ..., 19], [3, ..., 3], [4, ..., 18], 53)\n"
       ]
      },
      {
       "output_type": "stream",
       "stream": "stdout",
       "text": [
        "2013-08-02 11:24:21  controller:71           Process action merge_clusters([19, ..., 19], [3, ..., 3], [4, ..., 18], 53)\n"
       ]
      },
      {
       "output_type": "stream",
       "stream": "stdout",
       "text": [
        "2013-08-02 11:24:21  controller:150          Undo action merge_clusters([19, ..., 19], [3, ..., 3], [4, ..., 18], 53)\n"
       ]
      },
      {
       "output_type": "stream",
       "stream": "stdout",
       "text": [
        "2013-08-02 11:24:21  controller:71           Process action merge_clusters([19, ..., 19], [3, ..., 3], [4, ..., 18], 53)\n"
       ]
      },
      {
       "output_type": "stream",
       "stream": "stdout",
       "text": [
        "2013-08-02 11:24:21  controller:150          Undo action merge_clusters([19, ..., 19], [3, ..., 3], [4, ..., 18], 53)\n"
       ]
      },
      {
       "output_type": "stream",
       "stream": "stdout",
       "text": [
        "2013-08-02 11:24:21  controller:71           Process action merge_clusters([19, ..., 19], [3, ..., 3], [4, ..., 18], 53)\n"
       ]
      },
      {
       "output_type": "stream",
       "stream": "stdout",
       "text": [
        "2013-08-02 11:24:21  controller:150          Undo action merge_clusters([19, ..., 19], [3, ..., 3], [4, ..., 18], 53)\n"
       ]
      },
      {
       "output_type": "stream",
       "stream": "stdout",
       "text": [
        "2013-08-02 11:24:21  controller:71           Process action merge_clusters([19, ..., 19], [3, ..., 3], [4, ..., 18], 53)\n"
       ]
      },
      {
       "output_type": "stream",
       "stream": "stdout",
       "text": [
        "2013-08-02 11:24:21  controller:150          Undo action merge_clusters([19, ..., 19], [3, ..., 3], [4, ..., 18], 53)\n"
       ]
      },
      {
       "output_type": "stream",
       "stream": "stdout",
       "text": [
        "2013-08-02 11:24:21  controller:71           Process action merge_clusters([19, ..., 19], [3, ..., 3], [4, ..., 18], 53)\n"
       ]
      },
      {
       "output_type": "stream",
       "stream": "stdout",
       "text": [
        "2013-08-02 11:24:22  controller:150          Undo action merge_clusters([19, ..., 19], [3, ..., 3], [4, ..., 18], 53)\n"
       ]
      }
     ],
     "prompt_number": 12
    },
    {
     "cell_type": "code",
     "collapsed": false,
     "input": [
      "profile_mem(loader)"
     ],
     "language": "python",
     "metadata": {},
     "outputs": [
      {
       "output_type": "stream",
       "stream": "stdout",
       "text": [
        "TOTAL SIZE: 51.706 MB\n",
        "\n",
        "24.049 MB\tbackground_masks\n",
        "24.049 MB\tbackground_features\n",
        "0.782 MB\tlogfile\n",
        "0.782 MB\t__dict__\n",
        "0.496 MB\tspiketimes\n",
        "0.496 MB\tclusters\n",
        "0.248 MB\tbackground_clusters\n",
        "0.096 MB\tfeatures\n",
        "0.096 MB\tmasks\n",
        "0.096 MB\tmasks_full\n",
        "0.096 MB\tmain\n",
        "0.096 MB\tgroups_table\n",
        "0.096 MB\tclusters_table\n",
        "0.096 MB\tspike_table\n",
        "0.096 MB\twave_table\n",
        "0.029 MB\twaveforms\n",
        "0.006 MB\tcounter\n"
       ]
      }
     ],
     "prompt_number": 13
    },
    {
     "cell_type": "code",
     "collapsed": false,
     "input": [],
     "language": "python",
     "metadata": {},
     "outputs": []
    }
   ],
   "metadata": {}
  }
 ]
}