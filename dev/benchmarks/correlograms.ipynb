{
 "metadata": {
  "name": "correlograms"
 },
 "nbformat": 3,
 "nbformat_minor": 0,
 "worksheets": [
  {
   "cells": [
    {
     "cell_type": "markdown",
     "metadata": {},
     "source": [
      "# Computing all pairwise correlograms within a pool of neurons\n",
      "\n",
      "Pure Python and Cython code of an algorithm computing all pairwise correlograms between all neurons, given a set of spike trains."
     ]
    },
    {
     "cell_type": "markdown",
     "metadata": {},
     "source": [
      "## Imports"
     ]
    },
    {
     "cell_type": "code",
     "collapsed": false,
     "input": [
      "from itertools import product\n",
      "import numpy as np"
     ],
     "language": "python",
     "metadata": {},
     "outputs": [],
     "prompt_number": 1
    },
    {
     "cell_type": "code",
     "collapsed": false,
     "input": [
      "%load_ext cythonmagic"
     ],
     "language": "python",
     "metadata": {},
     "outputs": [],
     "prompt_number": 2
    },
    {
     "cell_type": "markdown",
     "metadata": {},
     "source": [
      "## Function definitions"
     ]
    },
    {
     "cell_type": "markdown",
     "metadata": {},
     "source": [
      "### Pure Python"
     ]
    },
    {
     "cell_type": "code",
     "collapsed": false,
     "input": [
      "def compute_correlograms(spiketimes, neurons, neurons_to_update=None,\n",
      "    ncorrbins=100, corrbin=.001):\n",
      "    \"\"\"Compute all pairwise cross-correlograms (and auto-correlograms)\n",
      "    between all neurons within a pool of neurons.\n",
      "    \n",
      "    Arguments:\n",
      "\n",
      "      * spiketimes: a sorted 1D array with all spiketimes,\n",
      "      * neurons: the neuron index for each spike (same shape as spiketimes),\n",
      "      * neurons_to_update=None: a 1D array with the neurons for which the\n",
      "        correlograms need to be computed. The correlograms between these neurons\n",
      "        and all neurons are computed.\n",
      "      * ncorrbins=100: the total number of bins in the correlograms. Need to be\n",
      "        an even number.\n",
      "      * corrbin=.001: the bin size, in seconds.\n",
      "\n",
      "    Returns:\n",
      "\n",
      "      * correlograms: a dictionary `(neuron0, neuron1): correlogram` where\n",
      "        correlogram is a 1D ncorrbins-long array with spike count values in each\n",
      "        bin.\n",
      "    \n",
      "    \"\"\"\n",
      "    # Ensure ncorrbins is an even number.\n",
      "    assert ncorrbins % 2 == 0\n",
      "    \n",
      "    # Compute the histogram corrbins.\n",
      "    n = ncorrbins // 2\n",
      "    halfwidth = corrbin * n\n",
      "    \n",
      "    # size of the histograms\n",
      "    nspikes = len(spiketimes)\n",
      "\n",
      "    # unique neurons\n",
      "    neurons_unique = np.unique(neurons)\n",
      "    nneurons = len(neurons_unique)\n",
      "    neuron_max = neurons_unique[-1]\n",
      "    \n",
      "    # neurons to update\n",
      "    if neurons_to_update is None:\n",
      "        neurons_to_update = neurons_unique\n",
      "    neurons_mask = np.zeros(neuron_max + 1, dtype=np.bool)\n",
      "    neurons_mask[neurons_to_update] = True\n",
      "    \n",
      "    # initialize the correlograms\n",
      "    correlograms = np.zeros(\n",
      "        ((neuron_max + 1) ** 2, ncorrbins), dtype=np.int32)\n",
      "\n",
      "    # loop through all spikes, across all neurons, all sorted\n",
      "    for i in range(nspikes):\n",
      "        t0, neuron0 = spiketimes[i], neurons[i]\n",
      "        # pass neurons that do not need to be processed\n",
      "        if neurons_mask[neuron0]:\n",
      "            # i, t0, c0: current spike index, spike time, and neuron\n",
      "            # boundaries of the second loop\n",
      "            t0min, t0max = t0 - halfwidth, t0 + halfwidth\n",
      "            j = i + 1\n",
      "            # go forward in time up to the correlogram half-width\n",
      "            while j < nspikes:\n",
      "                t1, neuron1 = spiketimes[j], neurons[j]\n",
      "                if t1 <= t0max:\n",
      "                    d = t1 - t0\n",
      "                    k = int(d / corrbin) + n\n",
      "                    ind = (neuron_max + 1) * neuron0 + neuron1\n",
      "                    correlograms[ind, k] += 1\n",
      "                else:\n",
      "                    break\n",
      "                j += 1\n",
      "            j = i - 1\n",
      "            # go backward in time up to the correlogram half-width\n",
      "            while j >= 0:\n",
      "                t1, neuron1 = spiketimes[j], neurons[j]\n",
      "                if t0min <= t1:\n",
      "                    d = t1 - t0\n",
      "                    k = int(d / corrbin) + n - 1\n",
      "                    #ind = pairs[(neuron0, neuron1)]\n",
      "                    ind = (neuron_max + 1) * neuron0 + neuron1\n",
      "                    correlograms[ind, k] += 1\n",
      "                else:\n",
      "                    break\n",
      "                j -= 1\n",
      "    return {(neuron0, neuron1): correlograms[(neuron_max + 1) * neuron0 + neuron1,:] for neuron0 in neurons_to_update for neuron1 in neurons_unique}"
     ],
     "language": "python",
     "metadata": {},
     "outputs": [],
     "prompt_number": 3
    },
    {
     "cell_type": "markdown",
     "metadata": {},
     "source": [
      "### Cython version"
     ]
    },
    {
     "cell_type": "code",
     "collapsed": false,
     "input": [
      "%%cython\n",
      "\n",
      "import numpy as np\n",
      "cimport numpy as np\n",
      "DTYPE = np.double\n",
      "ctypedef np.double_t DTYPE_t\n",
      "DTYPEI = np.int\n",
      "ctypedef np.int_t DTYPEI_t\n",
      "\n",
      "def compute_correlograms_cython(\n",
      "     np.ndarray[DTYPE_t, ndim=1] spiketimes,\n",
      "     np.ndarray[DTYPEI_t, ndim=1] neurons,\n",
      "     np.ndarray[DTYPEI_t, ndim=1] neurons_to_update=None,\n",
      "     int ncorrbins=100,\n",
      "     double corrbin=.001):\n",
      "    \n",
      "    # Ensure ncorrbins is an even number.\n",
      "    assert ncorrbins % 2 == 0\n",
      "    \n",
      "    # Compute the histogram corrbins.\n",
      "    cdef int n = ncorrbins // 2\n",
      "    cdef double halfwidth = corrbin * n\n",
      "    \n",
      "    # size of the histograms\n",
      "    cdef int nspikes = len(spiketimes)\n",
      "    \n",
      "    cdef int i, j, neuron0, neuron1, k, ind\n",
      "    cdef float t0, t1, t0min, t0max, d\n",
      "\n",
      "    # Unique neurons\n",
      "    cdef np.ndarray[DTYPEI_t, ndim=1] neurons_unique = np.unique(neurons)\n",
      "    cdef int nneurons = len(neurons_unique)\n",
      "    cdef int neuron_max = neurons_unique[-1]\n",
      "    \n",
      "    # neurons to update\n",
      "    if neurons_to_update is None:\n",
      "        neurons_to_update = neurons_unique\n",
      "    cdef np.ndarray[DTYPEI_t, ndim=1] neurons_mask = np.zeros(neuron_max + 1, dtype=DTYPEI)\n",
      "    neurons_mask[neurons_to_update] = 1\n",
      "    \n",
      "    # initialize the correlograms\n",
      "    cdef np.ndarray[DTYPEI_t, ndim=2] correlograms = np.zeros(\n",
      "        ((neuron_max + 1) ** 2, ncorrbins), dtype=DTYPEI)\n",
      "\n",
      "    # loop through all spikes, across all neurons, all sorted\n",
      "    for i in xrange(nspikes):\n",
      "        t0, neuron0 = spiketimes[i], neurons[i]\n",
      "        # pass neurons that do not need to be processed\n",
      "        if neurons_mask[neuron0]:\n",
      "            # i, t0, c0: current spike index, spike time, and neuron\n",
      "            # boundaries of the second loop\n",
      "            t0min, t0max = t0 - halfwidth, t0 + halfwidth\n",
      "            j = i + 1\n",
      "            # go forward in time up to the correlogram half-width\n",
      "            while j < nspikes:\n",
      "                t1, neuron1 = spiketimes[j], neurons[j]\n",
      "                if t1 < t0max:\n",
      "                    d = t1 - t0\n",
      "                    k = int(d / corrbin) + n\n",
      "                    ind = (neuron_max + 1) * neuron0 + neuron1\n",
      "                    correlograms[ind, k] += 1\n",
      "                else:\n",
      "                    break\n",
      "                j += 1\n",
      "            j = i - 1\n",
      "            # go backward in time up to the correlogram half-width\n",
      "            while j >= 0:\n",
      "                t1, neuron1 = spiketimes[j], neurons[j]\n",
      "                if t0min < t1:\n",
      "                    d = t1 - t0\n",
      "                    k = int(d / corrbin) + n - 1\n",
      "                    ind = (neuron_max + 1) * neuron0 + neuron1\n",
      "                    correlograms[ind, k] += 1\n",
      "                else:\n",
      "                    break\n",
      "                j -= 1\n",
      "    return {(neuron0, neuron1): correlograms[(neuron_max + 1) * neuron0 + neuron1,:] for neuron0 in neurons_to_update for neuron1 in neurons_unique}"
     ],
     "language": "python",
     "metadata": {},
     "outputs": [],
     "prompt_number": 4
    },
    {
     "cell_type": "markdown",
     "metadata": {},
     "source": [
      "## Tests\n",
      "\n",
      "Computing all pairwise correlograms within a pool of 100 neurons, with 100 time steps (+/- 50 ms, 1 ms bin), for a total of 100000 spikes."
     ]
    },
    {
     "cell_type": "code",
     "collapsed": false,
     "input": [
      "nspikes = 100000\n",
      "nneurons = 100\n",
      "ncorrbins = 100\n",
      "corrbin = .001"
     ],
     "language": "python",
     "metadata": {},
     "outputs": [],
     "prompt_number": 5
    },
    {
     "cell_type": "code",
     "collapsed": false,
     "input": [
      "spiketimes = np.cumsum(np.random.exponential(scale=.005, size=nspikes))\n",
      "neurons = np.random.randint(low=0, high=nneurons - 1, size=nspikes)"
     ],
     "language": "python",
     "metadata": {},
     "outputs": [],
     "prompt_number": 6
    },
    {
     "cell_type": "markdown",
     "metadata": {},
     "source": [
      "Plotting a few correlograms."
     ]
    },
    {
     "cell_type": "code",
     "collapsed": false,
     "input": [
      "correlograms = compute_correlograms_cython(spiketimes, neurons,\n",
      "                                     ncorrbins=ncorrbins, corrbin=corrbin)\n",
      "for i in xrange(4):\n",
      "    for j in xrange(4):\n",
      "        subplot(4, 4, i * 4 + j + 1);\n",
      "        bar(arange(100) - 50, correlograms[i,j], width=1, ec='none');\n",
      "        xlim(-50,50);\n",
      "        grid();"
     ],
     "language": "python",
     "metadata": {},
     "outputs": [
      {
       "output_type": "display_data",
       "png": "[encoded data removed]"
      }
     ],
     "prompt_number": 7
    },
    {
     "cell_type": "markdown",
     "metadata": {},
     "source": [
      "## Benchmarks"
     ]
    },
    {
     "cell_type": "markdown",
     "metadata": {},
     "source": [
      "Pure Python version."
     ]
    },
    {
     "cell_type": "code",
     "collapsed": false,
     "input": [
      "%%timeit -n 2 -r 2\n",
      "correlograms = compute_correlograms(spiketimes, neurons,\n",
      "                                     ncorrbins=ncorrbins, corrbin=corrbin)"
     ],
     "language": "python",
     "metadata": {},
     "outputs": [
      {
       "output_type": "stream",
       "stream": "stdout",
       "text": [
        "2 loops, best of 2: 21.8 s per loop\n"
       ]
      }
     ],
     "prompt_number": 8
    },
    {
     "cell_type": "markdown",
     "metadata": {},
     "source": [
      "Cython version."
     ]
    },
    {
     "cell_type": "code",
     "collapsed": false,
     "input": [
      "%%timeit -n 2 -r 2\n",
      "correlograms = compute_correlograms_cython(spiketimes, neurons,\n",
      "                                    ncorrbins=ncorrbins, corrbin=corrbin)"
     ],
     "language": "python",
     "metadata": {},
     "outputs": [
      {
       "output_type": "stream",
       "stream": "stdout",
       "text": [
        "2 loops, best of 2: 788 ms per loop\n"
       ]
      }
     ],
     "prompt_number": 9
    }
   ],
   "metadata": {}
  }
 ]
}